{
 "cells": [
  {
   "cell_type": "code",
   "execution_count": null,
   "id": "502e5c08",
   "metadata": {},
   "outputs": [],
   "source": [
    "# Import libraries\n",
    "import pandas as pd\n",
    "import numpy as np\n",
    "from tensorflow import keras"
   ]
  },
  {
   "cell_type": "code",
   "execution_count": null,
   "id": "93842ebf",
   "metadata": {},
   "outputs": [],
   "source": [
    "# Data Import\n",
    "(X_train, y_train), (X_test, y_test) = keras.datasets.mnist.load_data()"
   ]
  },
  {
   "cell_type": "code",
   "execution_count": null,
   "id": "6c3bcf73",
   "metadata": {},
   "outputs": [],
   "source": [
    "# Data Reshape, for SKLEARN usage\n",
    "Skdata_X = X_train.reshape(60000,784)\n",
    "Skdata_X_test = X_test.reshape(10000,784)"
   ]
  },
  {
   "cell_type": "code",
   "execution_count": null,
   "id": "7693abbc",
   "metadata": {},
   "outputs": [],
   "source": [
    "Skdata_X.shape, X_test.shape"
   ]
  },
  {
   "cell_type": "code",
   "execution_count": null,
   "id": "8dbb2628",
   "metadata": {},
   "outputs": [],
   "source": [
    "# Model Creation\n",
    "# Logistic Regression\n",
    "from sklearn.linear_model import LogisticRegression\n",
    "mnist_logistic = LogisticRegression()\n",
    "mnist_logistic.fit(Skdata_X,y_train)"
   ]
  },
  {
   "cell_type": "code",
   "execution_count": null,
   "id": "a496cbcb",
   "metadata": {},
   "outputs": [],
   "source": [
    "# SVM\n",
    "from sklearn.pipeline import make_pipeline\n",
    "from sklearn.preprocessing import StandardScaler\n",
    "from sklearn.svm import LinearSVC\n",
    "mnist_svm = make_pipeline(StandardScaler(), LinearSVC(random_state=0, tol=1e-5))\n",
    "# Model Training\n",
    "mnist_svm.fit(Skdata_X,y_train)"
   ]
  },
  {
   "cell_type": "code",
   "execution_count": null,
   "id": "d7579946",
   "metadata": {},
   "outputs": [],
   "source": [
    "# Random Forest\n",
    "# Random Forest\n",
    "from sklearn.ensemble import RandomForestClassifier\n",
    "mnist_randForest = RandomForestClassifier(n_estimators=10)\n",
    "mnist_randForest.fit(Skdata_X,y_train)"
   ]
  },
  {
   "cell_type": "code",
   "execution_count": null,
   "id": "097bb327",
   "metadata": {},
   "outputs": [],
   "source": [
    "# NN (MLP)\n",
    "\n",
    "model_nn = keras.Sequential([\n",
    "    keras.layers.Flatten(input_shape=(28,28)),\n",
    "    keras.layers.Dense(128, activation='relu'),\n",
    "    keras.layers.Dense(10)\n",
    "])\n",
    "model_nn.compile(optimizer='adam',\n",
    "              loss=keras.losses.SparseCategoricalCrossentropy(from_logits=True),\n",
    "              metrics=['accuracy'])\n",
    "model_nn.fit(X_train, y_train, epochs=10,\n",
    "         validation_data = (X_test,y_test))"
   ]
  },
  {
   "cell_type": "code",
   "execution_count": null,
   "id": "007c06fe",
   "metadata": {},
   "outputs": [],
   "source": [
    "# CNN \n",
    "from tensorflow.keras import layers, models\n",
    "train_images = X_train.reshape(60000,28,28,1)\n",
    "test_images = X_test.reshape(10000,28,28,1)\n",
    "model_cnn = models.Sequential()\n",
    "model_cnn.add(layers.Conv2D(32, (3, 3), activation='relu', input_shape=(28,28,1)))\n",
    "model_cnn.add(layers.MaxPooling2D((2, 2)))\n",
    "model_cnn.add(layers.Conv2D(64, (3, 3), activation='relu'))\n",
    "model_cnn.add(layers.MaxPooling2D((2, 2)))\n",
    "model_cnn.add(layers.Conv2D(64, (3, 3), activation='relu'))\n",
    "model_cnn.add(layers.Flatten())\n",
    "model_cnn.add(layers.Dense(64, activation='relu'))\n",
    "model_cnn.add(layers.Dense(10))\n",
    "model_cnn.compile(optimizer='adam',\n",
    "              loss=keras.losses.SparseCategoricalCrossentropy(from_logits=True),\n",
    "              metrics=['accuracy'])\n",
    "# Model Fitting\n",
    "model_cnn.fit(train_images, y_train, epochs=10, \n",
    "                    validation_data=(test_images, y_test))"
   ]
  },
  {
   "cell_type": "code",
   "execution_count": null,
   "id": "ba55d933",
   "metadata": {},
   "outputs": [],
   "source": [
    "# Data Prediction\n",
    "# Data Prediction\n",
    "# Logistic Regression\n",
    "fy_predict_logistic = mnist_logistic.predict(Skdata_X_test)\n",
    "# Support Vector Machine\n",
    "fy_predict_svm = mnist_svm.predict(Skdata_X_test)\n",
    "# Random Forest\n",
    "fy_predict_randForest = mnist_randForest.predict(Skdata_X_test)\n",
    "# MLP\n",
    "predict_nn = model_nn.predict(X_test) # Array que contiene los arrays con la probabilidad de \n",
    "                                        #que los datos de entrada pertenezcan a un label\n",
    "fy_predict_mlp = [] # Lista vacía, aquí se almacenarán los labels con la probabilidad más alta\n",
    "for i in range(len(predict_nn)): #Para cada array en predict_nn\n",
    "    fy_predict_mlp.append(np.argmax(predict_nn[i])) # Encuentra la posición de la prob más alta\n",
    "                                                    # y almacénala en la lista\n",
    "        \n",
    "#CNN \n",
    "predict_cnn = model_cnn.predict(X_test)\n",
    "fy_predict_cnn = []\n",
    "for i in range(len(predict_cnn)):\n",
    "    fy_predict_cnn.append(np.argmax(predict_cnn[i]))"
   ]
  },
  {
   "cell_type": "code",
   "execution_count": null,
   "id": "7d34ecca",
   "metadata": {},
   "outputs": [],
   "source": [
    "# Performance evaluation\n",
    "from sklearn.model_selection import cross_val_score\n",
    "from sklearn.metrics import accuracy_score\n",
    "from sklearn.metrics import precision_score\n",
    "from sklearn.metrics import recall_score\n",
    "from sklearn.metrics import f1_score"
   ]
  },
  {
   "cell_type": "code",
   "execution_count": null,
   "id": "24bc97c5",
   "metadata": {},
   "outputs": [],
   "source": [
    "accuracy = [accuracy_score(y_test, fy_predict_logistic),\n",
    "            accuracy_score(y_test, fy_predict_svm),\n",
    "            accuracy_score(y_test, fy_predict_randForest),\n",
    "           accuracy_score(y_test, fy_predict_mlp),\n",
    "           accuracy_score(y_test, fy_predict_cnn)]\n",
    "precision = [precision_score(y_test, fy_predict_logistic, average='macro'),\n",
    "             precision_score(y_test, fy_predict_svm, average='macro'),\n",
    "             precision_score(y_test, fy_predict_randForest, average='macro'),\n",
    "            precision_score(y_test, fy_predict_mlp, average='macro'),\n",
    "            precision_score(y_test, fy_predict_cnn, average='macro')]\n",
    "recall = [recall_score(y_test, fy_predict_logistic, average='micro'),\n",
    "         recall_score(y_test, fy_predict_svm, average='micro'),\n",
    "         recall_score(y_test, fy_predict_randForest, average='micro'),\n",
    "         recall_score(y_test, fy_predict_mlp, average='micro'),\n",
    "         recall_score(y_test, fy_predict_cnn, average='micro')]\n",
    "f1 = [f1_score(y_test, fy_predict_logistic, average = 'weighted'),\n",
    "     f1_score(y_test, fy_predict_svm, average = 'weighted'),\n",
    "     f1_score(y_test, fy_predict_randForest, average = 'weighted'),\n",
    "     f1_score(y_test, fy_predict_mlp, average = 'weighted'),\n",
    "     f1_score(y_test, fy_predict_cnn, average = 'weighted')]\n",
    "perf_metrics = pd.DataFrame(data = [accuracy,precision,recall,f1], columns = [\"Logistic\",\n",
    "                                                                              \"SVM\", \"RandForest\",\"MLP\",\"CNN\"],\n",
    "                           index = [\"Accuracy\",\"Precision\",\"Recall\",\"F1\"])"
   ]
  },
  {
   "cell_type": "code",
   "execution_count": null,
   "id": "7a0fbe85",
   "metadata": {},
   "outputs": [],
   "source": [
    "perf_metrics"
   ]
  }
 ],
 "metadata": {
  "kernelspec": {
   "display_name": "Python 3.9.12 ('base')",
   "language": "python",
   "name": "python3"
  },
  "language_info": {
   "codemirror_mode": {
    "name": "ipython",
    "version": 3
   },
   "file_extension": ".py",
   "mimetype": "text/x-python",
   "name": "python",
   "nbconvert_exporter": "python",
   "pygments_lexer": "ipython3",
   "version": "3.9.12"
  },
  "vscode": {
   "interpreter": {
    "hash": "3eb825599874f73d53a28eb1517ebf1ba28ce5d8e92d7a88138417e905ce08d5"
   }
  }
 },
 "nbformat": 4,
 "nbformat_minor": 5
}
